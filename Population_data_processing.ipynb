{
 "cells": [
  {
   "cell_type": "code",
   "execution_count": 149,
   "metadata": {},
   "outputs": [],
   "source": [
    "import pandas as pd\n",
    "import pyreadstat \n",
    "import chardet"
   ]
  },
  {
   "cell_type": "code",
   "execution_count": 150,
   "metadata": {},
   "outputs": [],
   "source": [
    "#Import the csv\n",
    "population = pd.read_csv('./Datasets/Populationbyregion.csv').drop_duplicates()\n",
    "#Get rid of some of the forests that sit in different regions by adding them together\n",
    "totals=population.groupby(['county','indicator'])['Value'].sum().reset_index()\n",
    "#Pivot to get a wide rather than a narrow dataset\n",
    "population_data = totals.pivot(index=['county'],columns='indicator', values='Value')\n",
    "#The household size data is currently one significant figure, recalculate\n",
    "population_data['Average Household size'] = population_data['Population, Total']/population_data['Number of Households']"
   ]
  },
  {
   "cell_type": "code",
   "execution_count": 151,
   "metadata": {},
   "outputs": [],
   "source": [
    "mtf_battery_df, mtf_battery_meta = pyreadstat.read_dta('./Datasets/Kenya_MTF_data/MTF_HH_Battery_Data_Final.dta')\n",
    "mtf_weight_df, mtf_weight_meta = pyreadstat.read_dta('./Datasets/Kenya_MTF_data/weight.dta')"
   ]
  },
  {
   "cell_type": "code",
   "execution_count": 152,
   "metadata": {},
   "outputs": [
    {
     "name": "stderr",
     "output_type": "stream",
     "text": [
      "/var/folders/wh/kn94yryj1b35n6692fmfv3dc0000gq/T/ipykernel_67333/1801959063.py:2: FutureWarning: Indexing with multiple keys (implicitly converted to a tuple of keys) will be deprecated, use a list instead.\n",
      "  max_vals=with_weights.groupby(['PARENT_KEY'])['pw_final', 'c_multiple'].max().reset_index()\n",
      "/var/folders/wh/kn94yryj1b35n6692fmfv3dc0000gq/T/ipykernel_67333/1801959063.py:3: FutureWarning: Indexing with multiple keys (implicitly converted to a tuple of keys) will be deprecated, use a list instead.\n",
      "  sum_vals=with_weights.groupby(['PARENT_KEY'])['c_c_110', 'c_c_111'].sum().reset_index()\n"
     ]
    }
   ],
   "source": [
    "with_weights = pd.merge(mtf_battery_df, mtf_weight_df[['PARENT_KEY','pw_final']], on = 'PARENT_KEY')\n",
    "max_vals=with_weights.groupby(['PARENT_KEY'])['pw_final', 'c_multiple'].max().reset_index()\n",
    "sum_vals=with_weights.groupby(['PARENT_KEY'])['c_c_110', 'c_c_111'].sum().reset_index()\n",
    "battery_hhs = pd.merge(max_vals,sum_vals,on = ['PARENT_KEY']).rename(columns={'c_c_110':'total_battery_capacity', 'c_c_111':'total_battery_voltage','c_multiple':'num_batteries'})"
   ]
  },
  {
   "cell_type": "code",
   "execution_count": 153,
   "metadata": {},
   "outputs": [
    {
     "name": "stderr",
     "output_type": "stream",
     "text": [
      "/Users/rebecca.duke/miniforge3/lib/python3.9/site-packages/pandas/io/stata.py:1514: UnicodeWarning: \n",
      "One or more strings in the dta file could not be decoded using utf-8, and\n",
      "so the fallback encoding of latin-1 is being used.  This can happen when a file\n",
      "has been incorrectly encoded by Stata or some other software. You should verify\n",
      "the string values returned are correct.\n",
      "  warnings.warn(msg, UnicodeWarning)\n",
      "/var/folders/wh/kn94yryj1b35n6692fmfv3dc0000gq/T/ipykernel_67333/1727438286.py:3: FutureWarning: Indexing with multiple keys (implicitly converted to a tuple of keys) will be deprecated, use a list instead.\n",
      "  max_vals_survey=with_weights_survey.groupby(['PARENT_KEY','HH_code','prov','cty','dist','div','loc', 'subloc','class', 'locality_ur', 'marg', 'grid_loc'])['pw_final', 'a_a_1','b_b_6a','b_b_7'].max().reset_index().rename(columns={'a_a_1':'household_size','b_b_6a':'num_hhd_in_dwelling','b_b_7':'own_dwelling'})\n",
      "/var/folders/wh/kn94yryj1b35n6692fmfv3dc0000gq/T/ipykernel_67333/1727438286.py:4: FutureWarning: Indexing with multiple keys (implicitly converted to a tuple of keys) will be deprecated, use a list instead.\n",
      "  mean_vals_survey=with_weights_survey.groupby(['PARENT_KEY','HH_code','prov','cty','dist','div','loc', 'subloc','class', 'locality_ur', 'marg', 'grid_loc'])['b_b_9','c_c_3','c_c_21','c_c_25ai','c_c_25aii'].mean().reset_index().rename(columns={'b_b_9':'rooms_occupied','c_c_3':'distance_to_grid','c_c_21':'avg_electricity_consumption_kwh','c_c_25ai':'worst_hours_electricity','c_c_25aii':'typical_hours_electricity'})\n",
      "/var/folders/wh/kn94yryj1b35n6692fmfv3dc0000gq/T/ipykernel_67333/1727438286.py:5: FutureWarning: Indexing with multiple keys (implicitly converted to a tuple of keys) will be deprecated, use a list instead.\n",
      "  min_vals_survey=with_weights_survey.groupby(['PARENT_KEY','HH_code','prov','cty','dist','div','loc', 'subloc','class', 'locality_ur', 'marg', 'grid_loc'])[ 'b_b_16','b_b_21','c_c_2','c_c_38','c_c_75','c_c_104'].min().reset_index().rename(columns={'b_b_16':'bank_account_held','b_b_21':'mobile_money_acc_held','c_c_2':'grid_connection','c_c_38':'mini_grid_connection','c_c_75':'generator_for_electricity','c_c_104':'rechargeable_battery_electricity'})\n"
     ]
    }
   ],
   "source": [
    "mtf_core_df = pd.read_stata('./Datasets/Kenya_MTF_data/MTF_HH_Core_survey_Final_data_trimmed-2.dta', convert_categoricals=False).drop(columns=['enum_id', 'enum_foot','enum_ht','sup_id','tab_id','subdate','start_time'])\n",
    "with_weights_survey = pd.merge(mtf_core_df, mtf_weight_df[['PARENT_KEY','pw_final']], on = 'PARENT_KEY')\n",
    "max_vals_survey=with_weights_survey.groupby(['PARENT_KEY','HH_code','prov','cty','dist','div','loc', 'subloc','class', 'locality_ur', 'marg', 'grid_loc'])['pw_final', 'a_a_1','b_b_6a','b_b_7'].max().reset_index().rename(columns={'a_a_1':'household_size','b_b_6a':'num_hhd_in_dwelling','b_b_7':'own_dwelling'})\n",
    "mean_vals_survey=with_weights_survey.groupby(['PARENT_KEY','HH_code','prov','cty','dist','div','loc', 'subloc','class', 'locality_ur', 'marg', 'grid_loc'])['b_b_9','c_c_3','c_c_21','c_c_25ai','c_c_25aii'].mean().reset_index().rename(columns={'b_b_9':'rooms_occupied','c_c_3':'distance_to_grid','c_c_21':'avg_electricity_consumption_kwh','c_c_25ai':'worst_hours_electricity','c_c_25aii':'typical_hours_electricity'})\n",
    "min_vals_survey=with_weights_survey.groupby(['PARENT_KEY','HH_code','prov','cty','dist','div','loc', 'subloc','class', 'locality_ur', 'marg', 'grid_loc'])[ 'b_b_16','b_b_21','c_c_2','c_c_38','c_c_75','c_c_104'].min().reset_index().rename(columns={'b_b_16':'bank_account_held','b_b_21':'mobile_money_acc_held','c_c_2':'grid_connection','c_c_38':'mini_grid_connection','c_c_75':'generator_for_electricity','c_c_104':'rechargeable_battery_electricity'})\n",
    "total_survey = pd.merge(pd.merge(max_vals_survey, mean_vals_survey, on = ['PARENT_KEY','HH_code','prov','cty','dist','div','loc', 'subloc','class', 'locality_ur', 'marg', 'grid_loc']), min_vals_survey, on = ['PARENT_KEY','HH_code','prov','cty','dist','div','loc', 'subloc','class', 'locality_ur', 'marg', 'grid_loc'])"
   ]
  },
  {
   "cell_type": "code",
   "execution_count": 154,
   "metadata": {},
   "outputs": [
    {
     "name": "stderr",
     "output_type": "stream",
     "text": [
      "/var/folders/wh/kn94yryj1b35n6692fmfv3dc0000gq/T/ipykernel_67333/2366092681.py:3: FutureWarning: Indexing with multiple keys (implicitly converted to a tuple of keys) will be deprecated, use a list instead.\n",
      "  max_vals_solar=with_weights_solar.groupby(['PARENT_KEY'])['pw_final', 'c_position'].max().reset_index()\n",
      "/var/folders/wh/kn94yryj1b35n6692fmfv3dc0000gq/T/ipykernel_67333/2366092681.py:4: FutureWarning: Indexing with multiple keys (implicitly converted to a tuple of keys) will be deprecated, use a list instead.\n",
      "  sum_vals_solar=with_weights_solar.groupby(['PARENT_KEY'])['c_131_pwr','c_133_batt'].sum().reset_index()\n"
     ]
    }
   ],
   "source": [
    "mtf_solar_df = pd.read_stata('./Datasets/Kenya_MTF_data/MTF_HH_Solar_Roster.dta')\n",
    "with_weights_solar = pd.merge(mtf_solar_df, mtf_weight_df[['PARENT_KEY','pw_final']], on = 'PARENT_KEY')\n",
    "max_vals_solar=with_weights_solar.groupby(['PARENT_KEY'])['pw_final', 'c_position'].max().reset_index()\n",
    "sum_vals_solar=with_weights_solar.groupby(['PARENT_KEY'])['c_131_pwr','c_133_batt'].sum().reset_index()\n",
    "solar_hhs = pd.merge(max_vals_solar,sum_vals_solar,on = ['PARENT_KEY']).rename(columns={'c_133_batt':'solar_battery_capacity', 'c_131_pwr':'total_solar_rating','c_position':'num_solar'})"
   ]
  },
  {
   "cell_type": "code",
   "execution_count": 155,
   "metadata": {},
   "outputs": [
    {
     "data": {
      "text/html": [
       "<div>\n",
       "<style scoped>\n",
       "    .dataframe tbody tr th:only-of-type {\n",
       "        vertical-align: middle;\n",
       "    }\n",
       "\n",
       "    .dataframe tbody tr th {\n",
       "        vertical-align: top;\n",
       "    }\n",
       "\n",
       "    .dataframe thead th {\n",
       "        text-align: right;\n",
       "    }\n",
       "</style>\n",
       "<table border=\"1\" class=\"dataframe\">\n",
       "  <thead>\n",
       "    <tr style=\"text-align: right;\">\n",
       "      <th></th>\n",
       "      <th>PARENT_KEY</th>\n",
       "      <th>HH_code</th>\n",
       "      <th>prov</th>\n",
       "      <th>cty</th>\n",
       "      <th>dist</th>\n",
       "      <th>div</th>\n",
       "      <th>loc</th>\n",
       "      <th>subloc</th>\n",
       "      <th>class</th>\n",
       "      <th>locality_ur</th>\n",
       "      <th>...</th>\n",
       "      <th>distance_to_grid</th>\n",
       "      <th>avg_electricity_consumption_kwh</th>\n",
       "      <th>worst_hours_electricity</th>\n",
       "      <th>typical_hours_electricity</th>\n",
       "      <th>bank_account_held</th>\n",
       "      <th>mobile_money_acc_held</th>\n",
       "      <th>grid_connection</th>\n",
       "      <th>mini_grid_connection</th>\n",
       "      <th>generator_for_electricity</th>\n",
       "      <th>rechargeable_battery_electricity</th>\n",
       "    </tr>\n",
       "  </thead>\n",
       "  <tbody>\n",
       "    <tr>\n",
       "      <th>0</th>\n",
       "      <td>uuid:0006ae15-e9cf-419e-ac14-0c66a739366e</td>\n",
       "      <td>2210103012_12</td>\n",
       "      <td>North Eastern</td>\n",
       "      <td>21.0</td>\n",
       "      <td>Garissa</td>\n",
       "      <td>Central</td>\n",
       "      <td>Central</td>\n",
       "      <td>Waberi</td>\n",
       "      <td>1.0</td>\n",
       "      <td>1.0</td>\n",
       "      <td>...</td>\n",
       "      <td>888.0</td>\n",
       "      <td>NaN</td>\n",
       "      <td>NaN</td>\n",
       "      <td>NaN</td>\n",
       "      <td>1.0</td>\n",
       "      <td>2.0</td>\n",
       "      <td>2.0</td>\n",
       "      <td>2.0</td>\n",
       "      <td>2.0</td>\n",
       "      <td>2.0</td>\n",
       "    </tr>\n",
       "    <tr>\n",
       "      <th>1</th>\n",
       "      <td>uuid:001b24c5-30b9-41fe-ac90-9e9e3e476935</td>\n",
       "      <td>4061402011_10</td>\n",
       "      <td>Central</td>\n",
       "      <td>6.0</td>\n",
       "      <td>Thika West</td>\n",
       "      <td>Thika West</td>\n",
       "      <td>Makongeni</td>\n",
       "      <td>Kamenu</td>\n",
       "      <td>1.0</td>\n",
       "      <td>1.0</td>\n",
       "      <td>...</td>\n",
       "      <td>NaN</td>\n",
       "      <td>9.2</td>\n",
       "      <td>NaN</td>\n",
       "      <td>NaN</td>\n",
       "      <td>2.0</td>\n",
       "      <td>1.0</td>\n",
       "      <td>1.0</td>\n",
       "      <td>2.0</td>\n",
       "      <td>2.0</td>\n",
       "      <td>2.0</td>\n",
       "    </tr>\n",
       "    <tr>\n",
       "      <th>2</th>\n",
       "      <td>uuid:0031732a-2efc-43e7-ba34-9447ddc31b32</td>\n",
       "      <td>5330201011_05</td>\n",
       "      <td>Rift Valley</td>\n",
       "      <td>33.0</td>\n",
       "      <td>Trans Nzoia West</td>\n",
       "      <td>Kiminini</td>\n",
       "      <td>Kiminini</td>\n",
       "      <td>Kiminini</td>\n",
       "      <td>1.0</td>\n",
       "      <td>2.0</td>\n",
       "      <td>...</td>\n",
       "      <td>3.0</td>\n",
       "      <td>NaN</td>\n",
       "      <td>NaN</td>\n",
       "      <td>NaN</td>\n",
       "      <td>1.0</td>\n",
       "      <td>1.0</td>\n",
       "      <td>2.0</td>\n",
       "      <td>2.0</td>\n",
       "      <td>2.0</td>\n",
       "      <td>2.0</td>\n",
       "    </tr>\n",
       "    <tr>\n",
       "      <th>3</th>\n",
       "      <td>uuid:0042ae86-e063-4b44-a859-9c253d82bd38</td>\n",
       "      <td>5431305011_08</td>\n",
       "      <td>Rift Valley</td>\n",
       "      <td>43.0</td>\n",
       "      <td>Bomet</td>\n",
       "      <td>Sigor</td>\n",
       "      <td>Sigor</td>\n",
       "      <td>Areiyet</td>\n",
       "      <td>1.0</td>\n",
       "      <td>2.0</td>\n",
       "      <td>...</td>\n",
       "      <td>4.0</td>\n",
       "      <td>NaN</td>\n",
       "      <td>NaN</td>\n",
       "      <td>NaN</td>\n",
       "      <td>2.0</td>\n",
       "      <td>1.0</td>\n",
       "      <td>2.0</td>\n",
       "      <td>2.0</td>\n",
       "      <td>2.0</td>\n",
       "      <td>2.0</td>\n",
       "    </tr>\n",
       "    <tr>\n",
       "      <th>4</th>\n",
       "      <td>uuid:006014f9-c69e-48b2-8198-60cbbc894b59</td>\n",
       "      <td>5301701021_10</td>\n",
       "      <td>Rift Valley</td>\n",
       "      <td>30.0</td>\n",
       "      <td>Turkana South</td>\n",
       "      <td>Katilu</td>\n",
       "      <td>Katilu</td>\n",
       "      <td>Lokapel</td>\n",
       "      <td>1.0</td>\n",
       "      <td>2.0</td>\n",
       "      <td>...</td>\n",
       "      <td>77.0</td>\n",
       "      <td>NaN</td>\n",
       "      <td>NaN</td>\n",
       "      <td>NaN</td>\n",
       "      <td>2.0</td>\n",
       "      <td>2.0</td>\n",
       "      <td>2.0</td>\n",
       "      <td>2.0</td>\n",
       "      <td>2.0</td>\n",
       "      <td>2.0</td>\n",
       "    </tr>\n",
       "  </tbody>\n",
       "</table>\n",
       "<p>5 rows × 27 columns</p>\n",
       "</div>"
      ],
      "text/plain": [
       "                                  PARENT_KEY        HH_code           prov  \\\n",
       "0  uuid:0006ae15-e9cf-419e-ac14-0c66a739366e  2210103012_12  North Eastern   \n",
       "1  uuid:001b24c5-30b9-41fe-ac90-9e9e3e476935  4061402011_10        Central   \n",
       "2  uuid:0031732a-2efc-43e7-ba34-9447ddc31b32  5330201011_05    Rift Valley   \n",
       "3  uuid:0042ae86-e063-4b44-a859-9c253d82bd38  5431305011_08    Rift Valley   \n",
       "4  uuid:006014f9-c69e-48b2-8198-60cbbc894b59  5301701021_10    Rift Valley   \n",
       "\n",
       "    cty              dist         div        loc    subloc  class  \\\n",
       "0  21.0           Garissa     Central    Central    Waberi    1.0   \n",
       "1   6.0        Thika West  Thika West  Makongeni    Kamenu    1.0   \n",
       "2  33.0  Trans Nzoia West    Kiminini   Kiminini  Kiminini    1.0   \n",
       "3  43.0             Bomet       Sigor      Sigor   Areiyet    1.0   \n",
       "4  30.0     Turkana South      Katilu     Katilu   Lokapel    1.0   \n",
       "\n",
       "   locality_ur  ...  distance_to_grid  avg_electricity_consumption_kwh  \\\n",
       "0          1.0  ...             888.0                              NaN   \n",
       "1          1.0  ...               NaN                              9.2   \n",
       "2          2.0  ...               3.0                              NaN   \n",
       "3          2.0  ...               4.0                              NaN   \n",
       "4          2.0  ...              77.0                              NaN   \n",
       "\n",
       "   worst_hours_electricity  typical_hours_electricity  bank_account_held  \\\n",
       "0                      NaN                        NaN                1.0   \n",
       "1                      NaN                        NaN                2.0   \n",
       "2                      NaN                        NaN                1.0   \n",
       "3                      NaN                        NaN                2.0   \n",
       "4                      NaN                        NaN                2.0   \n",
       "\n",
       "   mobile_money_acc_held  grid_connection  mini_grid_connection  \\\n",
       "0                    2.0              2.0                   2.0   \n",
       "1                    1.0              1.0                   2.0   \n",
       "2                    1.0              2.0                   2.0   \n",
       "3                    1.0              2.0                   2.0   \n",
       "4                    2.0              2.0                   2.0   \n",
       "\n",
       "   generator_for_electricity  rechargeable_battery_electricity  \n",
       "0                        2.0                               2.0  \n",
       "1                        2.0                               2.0  \n",
       "2                        2.0                               2.0  \n",
       "3                        2.0                               2.0  \n",
       "4                        2.0                               2.0  \n",
       "\n",
       "[5 rows x 27 columns]"
      ]
     },
     "execution_count": 155,
     "metadata": {},
     "output_type": "execute_result"
    }
   ],
   "source": [
    "total_survey.head()"
   ]
  },
  {
   "cell_type": "code",
   "execution_count": 169,
   "metadata": {},
   "outputs": [],
   "source": [
    "raw_mtf_data =pd.merge(total_survey,pd.merge(battery_hhs,solar_hhs, how='outer',on='PARENT_KEY').drop(columns=(['pw_final_x','pw_final_y'])), on='PARENT_KEY', how='left')"
   ]
  },
  {
   "cell_type": "code",
   "execution_count": 184,
   "metadata": {},
   "outputs": [],
   "source": [
    "raw_mtf_data['weightedhousehold_inhabitants'] = raw_mtf_data.pw_final*raw_mtf_data.household_size\n",
    "raw_mtf_data['weighted_hh_per_dwelling'] = raw_mtf_data.pw_final*(raw_mtf_data.num_hhd_in_dwelling+1)\n",
    "raw_mtf_data.loc[raw_mtf_data.own_dwelling==2,'own_dwelling'] = 0\n",
    "raw_mtf_data['weighted_owned_dwelling'] = raw_mtf_data.pw_final*raw_mtf_data.own_dwelling"
   ]
  },
  {
   "cell_type": "code",
   "execution_count": 183,
   "metadata": {},
   "outputs": [
    {
     "data": {
      "text/plain": [
       "3.0     1221\n",
       "2.0     1188\n",
       "1.0      851\n",
       "4.0      577\n",
       "5.0      238\n",
       "6.0      127\n",
       "8.0       47\n",
       "7.0       44\n",
       "13.0      28\n",
       "12.0      15\n",
       "9.0        8\n",
       "0.0        8\n",
       "10.0       6\n",
       "15.0       2\n",
       "19.0       2\n",
       "11.0       1\n",
       "14.0       1\n",
       "23.0       1\n",
       "17.0       1\n",
       "25.0       1\n",
       "66.0       1\n",
       "20.0       1\n",
       "16.0       1\n",
       "Name: rooms_occupied, dtype: int64"
      ]
     },
     "execution_count": 183,
     "metadata": {},
     "output_type": "execute_result"
    }
   ],
   "source": [
    "raw_mtf_data.rooms_occupied.value_counts()"
   ]
  },
  {
   "cell_type": "code",
   "execution_count": 176,
   "metadata": {},
   "outputs": [
    {
     "data": {
      "text/plain": [
       "Index(['PARENT_KEY', 'HH_code', 'prov', 'cty', 'dist', 'div', 'loc', 'subloc',\n",
       "       'class', 'locality_ur', 'marg', 'grid_loc', 'pw_final',\n",
       "       'household_size', 'num_hhd_in_dwelling', 'own_dwelling',\n",
       "       'rooms_occupied', 'distance_to_grid', 'avg_electricity_consumption_kwh',\n",
       "       'worst_hours_electricity', 'typical_hours_electricity',\n",
       "       'bank_account_held', 'mobile_money_acc_held', 'grid_connection',\n",
       "       'mini_grid_connection', 'generator_for_electricity',\n",
       "       'rechargeable_battery_electricity', 'num_batteries',\n",
       "       'total_battery_capacity', 'total_battery_voltage', 'num_solar',\n",
       "       'total_solar_rating', 'solar_battery_capacity'],\n",
       "      dtype='object')"
      ]
     },
     "execution_count": 176,
     "metadata": {},
     "output_type": "execute_result"
    }
   ],
   "source": [
    "raw_mtf_data.columns"
   ]
  },
  {
   "cell_type": "code",
   "execution_count": 179,
   "metadata": {},
   "outputs": [
    {
     "data": {
      "text/html": [
       "<div>\n",
       "<style scoped>\n",
       "    .dataframe tbody tr th:only-of-type {\n",
       "        vertical-align: middle;\n",
       "    }\n",
       "\n",
       "    .dataframe tbody tr th {\n",
       "        vertical-align: top;\n",
       "    }\n",
       "\n",
       "    .dataframe thead th {\n",
       "        text-align: right;\n",
       "    }\n",
       "</style>\n",
       "<table border=\"1\" class=\"dataframe\">\n",
       "  <thead>\n",
       "    <tr style=\"text-align: right;\">\n",
       "      <th></th>\n",
       "      <th>dist</th>\n",
       "      <th>num_households</th>\n",
       "    </tr>\n",
       "  </thead>\n",
       "  <tbody>\n",
       "    <tr>\n",
       "      <th>0</th>\n",
       "      <td>Baringo</td>\n",
       "      <td>56326.980225</td>\n",
       "    </tr>\n",
       "    <tr>\n",
       "      <th>1</th>\n",
       "      <td>Bomet</td>\n",
       "      <td>91233.927734</td>\n",
       "    </tr>\n",
       "    <tr>\n",
       "      <th>2</th>\n",
       "      <td>Bungoma North</td>\n",
       "      <td>64392.570435</td>\n",
       "    </tr>\n",
       "    <tr>\n",
       "      <th>3</th>\n",
       "      <td>Bungoma South</td>\n",
       "      <td>250068.255859</td>\n",
       "    </tr>\n",
       "    <tr>\n",
       "      <th>4</th>\n",
       "      <td>Bungoma West</td>\n",
       "      <td>60442.570129</td>\n",
       "    </tr>\n",
       "    <tr>\n",
       "      <th>...</th>\n",
       "      <td>...</td>\n",
       "      <td>...</td>\n",
       "    </tr>\n",
       "    <tr>\n",
       "      <th>119</th>\n",
       "      <td>Wajir West</td>\n",
       "      <td>54397.684570</td>\n",
       "    </tr>\n",
       "    <tr>\n",
       "      <th>120</th>\n",
       "      <td>Wareng</td>\n",
       "      <td>9.066787</td>\n",
       "    </tr>\n",
       "    <tr>\n",
       "      <th>121</th>\n",
       "      <td>West Pokot</td>\n",
       "      <td>81176.212494</td>\n",
       "    </tr>\n",
       "    <tr>\n",
       "      <th>122</th>\n",
       "      <td>Westlands</td>\n",
       "      <td>76516.719238</td>\n",
       "    </tr>\n",
       "    <tr>\n",
       "      <th>123</th>\n",
       "      <td>Yatta</td>\n",
       "      <td>83679.422607</td>\n",
       "    </tr>\n",
       "  </tbody>\n",
       "</table>\n",
       "<p>124 rows × 2 columns</p>\n",
       "</div>"
      ],
      "text/plain": [
       "              dist  num_households\n",
       "0          Baringo    56326.980225\n",
       "1            Bomet    91233.927734\n",
       "2    Bungoma North    64392.570435\n",
       "3    Bungoma South   250068.255859\n",
       "4     Bungoma West    60442.570129\n",
       "..             ...             ...\n",
       "119     Wajir West    54397.684570\n",
       "120         Wareng        9.066787\n",
       "121     West Pokot    81176.212494\n",
       "122      Westlands    76516.719238\n",
       "123          Yatta    83679.422607\n",
       "\n",
       "[124 rows x 2 columns]"
      ]
     },
     "execution_count": 179,
     "metadata": {},
     "output_type": "execute_result"
    }
   ],
   "source": [
    "raw_mtf_data.groupby('dist')['pw_final'].sum().reset_index().rename(columns={'pw_final':'num_households'})"
   ]
  },
  {
   "cell_type": "code",
   "execution_count": null,
   "metadata": {},
   "outputs": [],
   "source": []
  }
 ],
 "metadata": {
  "kernelspec": {
   "display_name": "base",
   "language": "python",
   "name": "python3"
  },
  "language_info": {
   "codemirror_mode": {
    "name": "ipython",
    "version": 3
   },
   "file_extension": ".py",
   "mimetype": "text/x-python",
   "name": "python",
   "nbconvert_exporter": "python",
   "pygments_lexer": "ipython3",
   "version": "3.9.10"
  },
  "orig_nbformat": 4,
  "vscode": {
   "interpreter": {
    "hash": "177af53ef52e8352ed7dd38e9eb6c2edcd77925c157bb1b4039ac99048851db3"
   }
  }
 },
 "nbformat": 4,
 "nbformat_minor": 2
}
